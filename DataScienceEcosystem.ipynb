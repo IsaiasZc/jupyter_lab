{
 "cells": [
  {
   "cell_type": "markdown",
   "id": "71881469-30b4-4017-ae82-15eebc621646",
   "metadata": {},
   "source": [
    "# Data Science Tools and Ecosystem"
   ]
  },
  {
   "cell_type": "markdown",
   "id": "742c724e-7165-4a34-95c1-d3fe4f4c441c",
   "metadata": {},
   "source": [
    "In this notebook, Data Science Tools and Ecosystem are summarized."
   ]
  },
  {
   "cell_type": "markdown",
   "id": "af309742-0086-4e57-8090-e58e3bff60a4",
   "metadata": {},
   "source": [
    "**Objectives:**\n",
    "- List popular languages for Data Science\n",
    "- List commonly libraries used for Data Science\n",
    "- Examples of Arithmetic expressions in Python"
   ]
  },
  {
   "cell_type": "markdown",
   "id": "f3cb7d8b-f56f-4f42-a7d8-e7e2ab160bf0",
   "metadata": {},
   "source": [
    "Some of the popular languages that Data Scientist use are:\n",
    "1. Python\n",
    "2. R\n",
    "3. JavaScript\n",
    "4. JAVA"
   ]
  },
  {
   "cell_type": "markdown",
   "id": "986ab68f-bb3a-46e1-8dce-bdc2deb109b5",
   "metadata": {},
   "source": [
    "Some of the commonly used libraries used by Data Scientists include:\n",
    "1. NumPy.\n",
    "2. Keras.\n",
    "3. Pandas.\n",
    "4. PyTorch."
   ]
  },
  {
   "cell_type": "markdown",
   "id": "5dcb6fd2-fbf1-449a-a17c-efe570e1b101",
   "metadata": {},
   "source": [
    "| Data Science Tools |\n",
    "|---------------|\n",
    "| Jupyter Nootboks |\n",
    "| R Studio |\n",
    "| Anaconda |"
   ]
  },
  {
   "cell_type": "markdown",
   "id": "71a8ce3b-62e6-45cb-ade6-55294366cb71",
   "metadata": {},
   "source": [
    "### Below are a few examples of evaluating arithmetic expressions in Python"
   ]
  },
  {
   "cell_type": "code",
   "execution_count": 8,
   "id": "a9b5fe4e-75fe-4a0f-a37d-4f9f852cbc70",
   "metadata": {},
   "outputs": [
    {
     "data": {
      "text/plain": [
       "17"
      ]
     },
     "execution_count": 8,
     "metadata": {},
     "output_type": "execute_result"
    }
   ],
   "source": [
    "# This a simple arithmetic expression to mutiply then add integers\n",
    "(3*4)+5"
   ]
  },
  {
   "cell_type": "code",
   "execution_count": 9,
   "id": "c9aaac26-1a18-479f-b55e-6a3f94a3c203",
   "metadata": {},
   "outputs": [
    {
     "data": {
      "text/plain": [
       "3.3333333333333335"
      ]
     },
     "execution_count": 9,
     "metadata": {},
     "output_type": "execute_result"
    }
   ],
   "source": [
    "# This will convert 200 minutes to hours by diving by 60\n",
    "minutes = 200\n",
    "hours = minutes / 60\n",
    "hours"
   ]
  },
  {
   "cell_type": "markdown",
   "id": "dc87cb67-658c-4f1e-8ef4-dddd710efe6d",
   "metadata": {},
   "source": [
    "## Author:\n",
    "Isaias Zuñiga Correa"
   ]
  }
 ],
 "metadata": {
  "kernelspec": {
   "display_name": "Python 3 (ipykernel)",
   "language": "python",
   "name": "python3"
  },
  "language_info": {
   "codemirror_mode": {
    "name": "ipython",
    "version": 3
   },
   "file_extension": ".py",
   "mimetype": "text/x-python",
   "name": "python",
   "nbconvert_exporter": "python",
   "pygments_lexer": "ipython3",
   "version": "3.11.7"
  }
 },
 "nbformat": 4,
 "nbformat_minor": 5
}
